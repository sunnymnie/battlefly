{
 "cells": [
  {
   "cell_type": "markdown",
   "id": "af2fc412-d033-4b47-aa8c-3b6ece06b4bc",
   "metadata": {},
   "source": [
    "# Threading practice"
   ]
  },
  {
   "cell_type": "code",
   "execution_count": 1,
   "id": "923d559b-eabe-4f97-aee0-00b8c3f62817",
   "metadata": {},
   "outputs": [],
   "source": [
    "import threading\n",
    "import time\n",
    "import random"
   ]
  },
  {
   "cell_type": "code",
   "execution_count": 2,
   "id": "e6f46b59-c43f-4a65-8aa1-87ce23e8f084",
   "metadata": {},
   "outputs": [],
   "source": [
    "class Battlefly:\n",
    "    def __init__(self, name):\n",
    "        self.name = name\n",
    "        self.touched = 0\n",
    "        self.battles = 0\n",
    "    def touch(self):\n",
    "        self.touched += 1\n",
    "        self.battles += 1\n",
    "    def untouch(self):\n",
    "        if self.touched == 1:\n",
    "            self.touched = 0\n"
   ]
  },
  {
   "cell_type": "code",
   "execution_count": 64,
   "id": "f2fa1ec6-64df-4ca9-bf9f-f782f74689c6",
   "metadata": {},
   "outputs": [],
   "source": [
    "# bfs = []\n",
    "# for i in range(12):\n",
    "#     bfs.append(Battlefly(str(i)))\n",
    "# bfs_in_use = list(map(lambda x: 0, bfs))\n",
    "stop = False"
   ]
  },
  {
   "cell_type": "code",
   "execution_count": 71,
   "id": "9a7c64d8-fcbb-4a0d-b212-e1899b94673c",
   "metadata": {},
   "outputs": [],
   "source": [
    "def run_battles(bfs):\n",
    "    stop=False\n",
    "    bfs = []\n",
    "    for i in range(12):\n",
    "        bfs.append(Battlefly(str(i)))\n",
    "    bfs_in_use = list(map(lambda x: 0, bfs))\n",
    "\n",
    "    threads = []\n",
    "    lock = threading.Lock()\n",
    "    for _ in range(10):\n",
    "        t = threading.Thread(target=run_battles_thread, args=(bfs, bfs_in_use, lock))\n",
    "        # t.daemon = True\n",
    "        threads.append(t)\n",
    "    threads.append(threading.Thread(target=stopping_thread))\n",
    "    print(f\"threads: {threads}\")\n",
    "    for t in threads:\n",
    "        t.start()\n",
    "    for t in threads:\n",
    "        t.join()\n",
    "    print(\"doing more stuff now\")\n",
    "    stop=True\n",
    "    return bfs"
   ]
  },
  {
   "cell_type": "code",
   "execution_count": 72,
   "id": "bb734aff-3071-4dfe-9011-c43ac3edd695",
   "metadata": {},
   "outputs": [],
   "source": [
    "def stopping_thread():\n",
    "    global stop\n",
    "    input()\n",
    "    # stop = False\n",
    "    # for i in range(10):\n",
    "    #     time.sleep(1)\n",
    "    #     print(\"sleep \" + str(i))\n",
    "    stop = True"
   ]
  },
  {
   "cell_type": "code",
   "execution_count": 73,
   "id": "905eedf6-78ad-415b-803d-cb518f689244",
   "metadata": {},
   "outputs": [],
   "source": [
    "# lock = threading.Lock()"
   ]
  },
  {
   "cell_type": "code",
   "execution_count": 74,
   "id": "6cc9ee52-70cc-4d28-9f16-11cd0644993b",
   "metadata": {},
   "outputs": [],
   "source": [
    "def run_battles_thread(bfs, bfs_in_use, lock):\n",
    "    while stop == False:\n",
    "        lock.acquire()\n",
    "        bf1, bf2, i, j = find_unused_bfs_and_use(bfs, bfs_in_use)\n",
    "        lock.release()\n",
    "        # time.sleep(random.uniform(0, 1))\n",
    "        bf1.touch()\n",
    "        bf2.touch()\n",
    "        time.sleep(random.uniform(0, 1))\n",
    "        bf1.untouch()\n",
    "        bf2.untouch()\n",
    "        # time.sleep(random.uniform(0, 1))\n",
    "        return_bfs(bfs_in_use, i, j)"
   ]
  },
  {
   "cell_type": "code",
   "execution_count": 75,
   "id": "2881b6a3-31e4-413d-899c-7017849b0c03",
   "metadata": {},
   "outputs": [
    {
     "name": "stdout",
     "output_type": "stream",
     "text": [
      "threads: [<Thread(Thread-104, initial)>, <Thread(Thread-105, initial)>, <Thread(Thread-106, initial)>, <Thread(Thread-107, initial)>, <Thread(Thread-108, initial)>, <Thread(Thread-109, initial)>, <Thread(Thread-110, initial)>, <Thread(Thread-111, initial)>, <Thread(Thread-112, initial)>, <Thread(Thread-113, initial)>, <Thread(Thread-114, initial)>]\n"
     ]
    },
    {
     "name": "stdin",
     "output_type": "stream",
     "text": [
      " \n"
     ]
    },
    {
     "name": "stdout",
     "output_type": "stream",
     "text": [
      "doing more stuff now\n"
     ]
    }
   ],
   "source": [
    "bfs = run_battles(bfs)"
   ]
  },
  {
   "cell_type": "code",
   "execution_count": 70,
   "id": "93af1ea7-f01b-4bfe-b2a7-3fa6ab6130cc",
   "metadata": {},
   "outputs": [
    {
     "name": "stdout",
     "output_type": "stream",
     "text": [
      "errors: 0\n",
      "total battles: 72\n"
     ]
    }
   ],
   "source": [
    "total_touched = sum(list(map(lambda x: x.touched, bfs)))\n",
    "print(f\"errors: {total_touched}\")\n",
    "total_battles = sum(list(map(lambda x: x.battles, bfs)))\n",
    "print(f\"total battles: {total_battles}\")"
   ]
  },
  {
   "cell_type": "code",
   "execution_count": 8,
   "id": "3fcb351a-b223-4845-90ac-47f0d39e0bc9",
   "metadata": {},
   "outputs": [],
   "source": [
    "def find_unused_bfs_and_use(bfs, bfs_in_use):\n",
    "    l = len(bfs_in_use)-1\n",
    "    i, j = random.randint(0, l), random.randint(0, l)\n",
    "    # i, j = 0, 1\n",
    "    while i == j or bfs_in_use[i] == 1 or bfs_in_use[j] == 1:\n",
    "        i, j = random.randint(0, l), random.randint(0, l)\n",
    "        # w = random.uniform(0, 1)\n",
    "        # print(f\"waiting {round(w, 2)} seconds\")\n",
    "        # time.sleep(w)\n",
    "    # time.sleep(random.uniform(1, 2))\n",
    "    # print(\"🔴I'm using it right now!\")\n",
    "    bfs_in_use[i] = 1\n",
    "    bfs_in_use[j] = 1\n",
    "    return bfs[i], bfs[j], i, j\n",
    "    \n",
    "def return_bfs(bfs_in_use, i, j):\n",
    "    \n",
    "    bfs_in_use[i] = 0\n",
    "    bfs_in_use[j] = 0\n",
    "    # print(\"🟢Returned!\")"
   ]
  },
  {
   "cell_type": "code",
   "execution_count": null,
   "id": "c6d76cd9-9162-4b39-b09b-d2630fd1838a",
   "metadata": {},
   "outputs": [],
   "source": []
  }
 ],
 "metadata": {
  "kernelspec": {
   "display_name": "Python 3 (ipykernel)",
   "language": "python",
   "name": "python3"
  },
  "language_info": {
   "codemirror_mode": {
    "name": "ipython",
    "version": 3
   },
   "file_extension": ".py",
   "mimetype": "text/x-python",
   "name": "python",
   "nbconvert_exporter": "python",
   "pygments_lexer": "ipython3",
   "version": "3.9.12"
  }
 },
 "nbformat": 4,
 "nbformat_minor": 5
}
