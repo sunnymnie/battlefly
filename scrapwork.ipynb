{
 "cells": [
  {
   "cell_type": "markdown",
   "id": "c62ade75-d768-43a5-b3b5-8d15d07ec3fc",
   "metadata": {},
   "source": [
    "# Battlefly Simulator scratch work\n"
   ]
  },
  {
   "cell_type": "code",
   "execution_count": 1,
   "id": "1a959d87-fd62-43f0-8c0c-457689b3467a",
   "metadata": {},
   "outputs": [],
   "source": [
    "import numpy as np\n",
    "from enum import Enum, auto\n",
    "import time\n",
    "from copy import deepcopy\n",
    "import matplotlib.pyplot as plt\n",
    "import random\n",
    "import importlib\n",
    "# importlib.reload(module)"
   ]
  },
  {
   "cell_type": "code",
   "execution_count": 2,
   "id": "993087af-9c68-4c29-809a-ce67ddf7b64d",
   "metadata": {},
   "outputs": [
    {
     "data": {
      "text/plain": [
       "<module 'effects' from '/Users/SunnyNie/Documents/Programming/games/battlefly/effects.py'>"
      ]
     },
     "execution_count": 2,
     "metadata": {},
     "output_type": "execute_result"
    }
   ],
   "source": [
    "import effects\n",
    "importlib.reload(effects)"
   ]
  },
  {
   "cell_type": "code",
   "execution_count": 3,
   "id": "7e759c31-4044-40d8-93c9-6abff11cedf2",
   "metadata": {},
   "outputs": [],
   "source": [
    "from effects import UTILITY"
   ]
  },
  {
   "cell_type": "code",
   "execution_count": 4,
   "id": "a5b98893-dec4-45b9-b77b-892e0a224c2b",
   "metadata": {},
   "outputs": [
    {
     "data": {
      "text/plain": [
       "{'auto_reloaders': <function e_utility.auto_reloaders(bf, time, self, effects)>,\n",
       " 'boosters_thrusters': <function e_utility.boosters_thrusters(bf, time, self, effects)>,\n",
       " 'ceramo_armor': <function e_utility.ceramo_armor(bf, time, self, effects)>,\n",
       " 'combat_algorithms_processor': <function e_utility.combat_algorithms_processor(bf, time, self, effects)>,\n",
       " 'cryo_ammo': <function e_utility.cryo_ammo(bf, time, self, effects)>,\n",
       " 'force_shield_at': <function e_utility.force_shield_at(bf, time, self, effects)>,\n",
       " 'force_shield_nx': <function e_utility.force_shield_nx(bf, time, self, effects)>,\n",
       " 'force_shield_warp': <function e_utility.force_shield_warp(bf, time, self, effects)>,\n",
       " 'overclocking_protocols': <function e_utility.overclocking_protocols(bf, time, self, effects)>,\n",
       " 'plasteel_hull': <function e_utility.plasteel_hull(bf, time, self, effects)>,\n",
       " 'rage_against_the_nano_machines': <function e_utility.rage_against_the_nano_machines(bf, time, self, effects)>,\n",
       " 'regenerative_nanobot': <function e_utility.regenerative_nanobot(bf, time, self, effects)>}"
      ]
     },
     "execution_count": 4,
     "metadata": {},
     "output_type": "execute_result"
    }
   ],
   "source": [
    "UTILITY"
   ]
  },
  {
   "cell_type": "code",
   "execution_count": 20,
   "id": "39f11294-1912-494d-8f3a-3ff54c9bca40",
   "metadata": {},
   "outputs": [
    {
     "name": "stdout",
     "output_type": "stream",
     "text": [
      "WOrks\n"
     ]
    }
   ],
   "source": [
    "eval(\"parser.\" + dir(parser)[-1] + \"()\")"
   ]
  },
  {
   "cell_type": "code",
   "execution_count": 9,
   "id": "512f3333-0829-4e2f-93ce-fb34cb81f2f6",
   "metadata": {},
   "outputs": [],
   "source": [
    "funcs = [\n",
    "    lambda a, b, **kwargs: kwargs[\"hi\"],\n",
    "    lambda a, b: a+b\n",
    "\n",
    "]"
   ]
  },
  {
   "cell_type": "code",
   "execution_count": 10,
   "id": "c761dac4-7093-40bd-a24a-d4274e997c1d",
   "metadata": {},
   "outputs": [
    {
     "ename": "TypeError",
     "evalue": "<lambda>() got an unexpected keyword argument 'hi'",
     "output_type": "error",
     "traceback": [
      "\u001b[0;31m---------------------------------------------------------------------------\u001b[0m",
      "\u001b[0;31mTypeError\u001b[0m                                 Traceback (most recent call last)",
      "Input \u001b[0;32mIn [10]\u001b[0m, in \u001b[0;36m<cell line: 1>\u001b[0;34m()\u001b[0m\n\u001b[0;32m----> 1\u001b[0m \u001b[43mfuncs\u001b[49m\u001b[43m[\u001b[49m\u001b[38;5;241;43m1\u001b[39;49m\u001b[43m]\u001b[49m\u001b[43m(\u001b[49m\u001b[38;5;241;43m5\u001b[39;49m\u001b[43m,\u001b[49m\u001b[43m \u001b[49m\u001b[38;5;241;43m1\u001b[39;49m\u001b[43m,\u001b[49m\u001b[43m \u001b[49m\u001b[43mhi\u001b[49m\u001b[38;5;241;43m=\u001b[39;49m\u001b[38;5;124;43m\"\u001b[39;49m\u001b[38;5;124;43mhello\u001b[39;49m\u001b[38;5;124;43m\"\u001b[39;49m\u001b[43m)\u001b[49m\n",
      "\u001b[0;31mTypeError\u001b[0m: <lambda>() got an unexpected keyword argument 'hi'"
     ]
    }
   ],
   "source": [
    "funcs[1](5, 1, hi=\"hello\")"
   ]
  },
  {
   "cell_type": "code",
   "execution_count": 5,
   "id": "fbb4425c-0da1-4fb6-b288-3209bf3bddfe",
   "metadata": {},
   "outputs": [],
   "source": [
    "from battlefly import Battlefly, Weapon, Utility"
   ]
  },
  {
   "cell_type": "code",
   "execution_count": 9,
   "id": "8e080de8-9d7f-4534-a881-ea56e161ce43",
   "metadata": {},
   "outputs": [
    {
     "ename": "NameError",
     "evalue": "name 'battlefly' is not defined",
     "output_type": "error",
     "traceback": [
      "\u001b[0;31m---------------------------------------------------------------------------\u001b[0m",
      "\u001b[0;31mNameError\u001b[0m                                 Traceback (most recent call last)",
      "Input \u001b[0;32mIn [9]\u001b[0m, in \u001b[0;36m<cell line: 1>\u001b[0;34m()\u001b[0m\n\u001b[0;32m----> 1\u001b[0m importlib\u001b[38;5;241m.\u001b[39mreload(\u001b[43mbattlefly\u001b[49m\u001b[38;5;241m.\u001b[39mBattlefly)\n",
      "\u001b[0;31mNameError\u001b[0m: name 'battlefly' is not defined"
     ]
    }
   ],
   "source": [
    "importlib.reload(battlefly.Battlefly)"
   ]
  },
  {
   "cell_type": "code",
   "execution_count": 22,
   "id": "a1092cd5-636d-4d02-8c61-4398bbd83016",
   "metadata": {},
   "outputs": [],
   "source": [
    "import time"
   ]
  },
  {
   "cell_type": "code",
   "execution_count": 38,
   "id": "def23361-e188-44cd-952a-172f6992a7d6",
   "metadata": {},
   "outputs": [
    {
     "data": {
      "text/plain": [
       "3.543450117111206"
      ]
     },
     "execution_count": 38,
     "metadata": {},
     "output_type": "execute_result"
    }
   ],
   "source": [
    "t = time.time()\n",
    "for _ in range(10000000):\n",
    "    random.uniform(0, 1)\n",
    "    # np.random.sample()\n",
    "time.time()-t"
   ]
  },
  {
   "cell_type": "code",
   "execution_count": null,
   "id": "64740a37-ae6e-425b-8e06-eac6ff6c1681",
   "metadata": {},
   "outputs": [],
   "source": [
    "def overclocking_protocols(bf, time, **kwargs):\n",
    "    \"\"\"requires self\"\"\"\n",
    "    if bf.hull < 0.3:\n",
    "        kwargs[\"effects\"].remove(kwargs[\"self\"])\n",
    "        # buff me"
   ]
  },
  {
   "cell_type": "code",
   "execution_count": 14,
   "id": "071edddb-8216-4b24-a598-92f1f66357a0",
   "metadata": {},
   "outputs": [],
   "source": [
    "def test(a, **kwargs):\n",
    "    a.remove(kwargs[\"self\"])\n",
    "array = [test, 5]"
   ]
  },
  {
   "cell_type": "code",
   "execution_count": 15,
   "id": "5c911c50-4f82-4b24-87e3-e94ef21bf493",
   "metadata": {},
   "outputs": [
    {
     "data": {
      "text/plain": [
       "[<function __main__.test(a, **kwargs)>, 5]"
      ]
     },
     "execution_count": 15,
     "metadata": {},
     "output_type": "execute_result"
    }
   ],
   "source": [
    "array"
   ]
  },
  {
   "cell_type": "code",
   "execution_count": 11,
   "id": "cf5d6f37-8ef5-4259-b6c6-f7217c20b3c6",
   "metadata": {},
   "outputs": [
    {
     "data": {
      "text/plain": [
       "'test'"
      ]
     },
     "execution_count": 11,
     "metadata": {},
     "output_type": "execute_result"
    }
   ],
   "source": [
    "test.__name__"
   ]
  },
  {
   "cell_type": "code",
   "execution_count": 16,
   "id": "ec1a9ace-0e4c-4137-9923-87ba9e28ae51",
   "metadata": {},
   "outputs": [],
   "source": [
    "test(array, self=test)"
   ]
  },
  {
   "cell_type": "code",
   "execution_count": 17,
   "id": "8977bc7a-2cfd-431d-a2a9-2e1166896656",
   "metadata": {},
   "outputs": [
    {
     "data": {
      "text/plain": [
       "[5]"
      ]
     },
     "execution_count": 17,
     "metadata": {},
     "output_type": "execute_result"
    }
   ],
   "source": [
    "array"
   ]
  },
  {
   "cell_type": "code",
   "execution_count": 4,
   "id": "cde0058c-2817-4afe-bcaa-7064060be5ca",
   "metadata": {},
   "outputs": [],
   "source": [
    "def test(**kwargs):\n",
    "    return kwargs"
   ]
  },
  {
   "cell_type": "code",
   "execution_count": 5,
   "id": "0b8df761-5ed5-497e-a35e-137b6e00df41",
   "metadata": {},
   "outputs": [
    {
     "data": {
      "text/plain": [
       "{'b': 5}"
      ]
     },
     "execution_count": 5,
     "metadata": {},
     "output_type": "execute_result"
    }
   ],
   "source": [
    "test(b=5)"
   ]
  },
  {
   "cell_type": "code",
   "execution_count": null,
   "id": "45303227-b6e6-4462-94da-c7685c5f6d61",
   "metadata": {},
   "outputs": [],
   "source": [
    "def weapon_to_json():\n",
    "    \"\"\"converts weapon to json\"\"\"\n",
    "    pass\n",
    "\n",
    "def json_to_weapon():\n",
    "    \"\"\"converts json to weapon\"\"\"\n",
    "    pass\n",
    "\n"
   ]
  },
  {
   "cell_type": "code",
   "execution_count": null,
   "id": "5102ad3b-611d-4902-ac7b-06eb579b04d0",
   "metadata": {},
   "outputs": [],
   "source": []
  }
 ],
 "metadata": {
  "kernelspec": {
   "display_name": "Python 3 (ipykernel)",
   "language": "python",
   "name": "python3"
  },
  "language_info": {
   "codemirror_mode": {
    "name": "ipython",
    "version": 3
   },
   "file_extension": ".py",
   "mimetype": "text/x-python",
   "name": "python",
   "nbconvert_exporter": "python",
   "pygments_lexer": "ipython3",
   "version": "3.9.12"
  }
 },
 "nbformat": 4,
 "nbformat_minor": 5
}
