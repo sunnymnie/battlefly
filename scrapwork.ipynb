{
 "cells": [
  {
   "cell_type": "markdown",
   "id": "c62ade75-d768-43a5-b3b5-8d15d07ec3fc",
   "metadata": {},
   "source": [
    "# Battlefly Simulator scratch work\n"
   ]
  },
  {
   "cell_type": "code",
   "execution_count": 1,
   "id": "1a959d87-fd62-43f0-8c0c-457689b3467a",
   "metadata": {},
   "outputs": [],
   "source": [
    "import numpy as np\n",
    "from enum import Enum, auto\n",
    "import time\n",
    "from copy import deepcopy\n",
    "import matplotlib.pyplot as plt\n",
    "import random\n",
    "import importlib\n",
    "# importlib.reload(module)"
   ]
  },
  {
   "cell_type": "code",
   "execution_count": 2,
   "id": "2110a42b-27a0-4561-a404-1e53457e8b97",
   "metadata": {},
   "outputs": [],
   "source": [
    "from battlefly import Battlefly"
   ]
  },
  {
   "cell_type": "code",
   "execution_count": 3,
   "id": "6e3a6422-7cfe-487c-9b95-0b39ad5e9ce2",
   "metadata": {},
   "outputs": [],
   "source": [
    "from mods import get_weapon, get_utility"
   ]
  },
  {
   "cell_type": "code",
   "execution_count": 4,
   "id": "c8ecebee-05bf-4841-bb61-bc67c5d8a30b",
   "metadata": {},
   "outputs": [],
   "source": [
    "bf1 = Battlefly(get_weapon(\"howitzer\", 1), \n",
    "                get_weapon(\"autocannon\", 1), \n",
    "                get_utility(\"ceramo_armor\", 1),\n",
    "                get_utility(\"force_shield_at\", 1))"
   ]
  },
  {
   "cell_type": "code",
   "execution_count": 10,
   "id": "0a81e288-bc88-4897-98f9-74ab40f653d6",
   "metadata": {},
   "outputs": [
    {
     "data": {
      "text/plain": [
       "<module 'parser' from '/Users/SunnyNie/Documents/Programming/games/battlefly/parser.py'>"
      ]
     },
     "execution_count": 10,
     "metadata": {},
     "output_type": "execute_result"
    }
   ],
   "source": [
    "import parser\n",
    "importlib.reload(parser)"
   ]
  },
  {
   "cell_type": "code",
   "execution_count": 11,
   "id": "25353586-4ab2-4821-bf79-063cb201ab8c",
   "metadata": {},
   "outputs": [
    {
     "data": {
      "text/plain": [
       "4000"
      ]
     },
     "execution_count": 11,
     "metadata": {},
     "output_type": "execute_result"
    }
   ],
   "source": [
    "bf1.w1.reload"
   ]
  },
  {
   "cell_type": "code",
   "execution_count": 12,
   "id": "50e62661-77c0-4fcc-95f5-39de878bb5c9",
   "metadata": {},
   "outputs": [],
   "source": [
    "j = parser.convert_bf_to_json(bf1)"
   ]
  },
  {
   "cell_type": "code",
   "execution_count": 13,
   "id": "cfa4e179-579d-4a0e-8291-fdab5bffa68d",
   "metadata": {},
   "outputs": [
    {
     "data": {
      "text/plain": [
       "{'name': 'how1_auto1_cer1_at1_0',\n",
       " 'mods': {'w1': {'reload': 4000,\n",
       "   'burst': 2,\n",
       "   'dmg': 52000,\n",
       "   'effects': ['howitzer'],\n",
       "   'name': 'how1'},\n",
       "  'w2': {'reload': 2000,\n",
       "   'burst': 2,\n",
       "   'dmg': 13000,\n",
       "   'effects': ['autocannon'],\n",
       "   'name': 'auto1'},\n",
       "  'u1': {'name': 'cer1', 'effects': ['ceramo_armor']},\n",
       "  'u2': {'name': 'at1', 'effects': ['force_shield_at']}},\n",
       " 'stats': {'wins': 0, 'battles': 0},\n",
       " 'traits': []}"
      ]
     },
     "execution_count": 13,
     "metadata": {},
     "output_type": "execute_result"
    }
   ],
   "source": [
    "j"
   ]
  },
  {
   "cell_type": "code",
   "execution_count": 14,
   "id": "f0542459-f144-4f62-bbcf-82e780887758",
   "metadata": {},
   "outputs": [],
   "source": [
    "bf2 = parser.convert_json_to_bf(j)"
   ]
  },
  {
   "cell_type": "code",
   "execution_count": 17,
   "id": "0a8d7a6f-68f2-486a-baa2-aa3df52a6d62",
   "metadata": {},
   "outputs": [
    {
     "data": {
      "text/plain": [
       "{'name': 'how1_auto1_cer1_at1_0',\n",
       " 'mods': {'w1': {'reload': 4000,\n",
       "   'burst': 2,\n",
       "   'dmg': 52000,\n",
       "   'effects': ['howitzer'],\n",
       "   'name': 'how1'},\n",
       "  'w2': {'reload': 2000,\n",
       "   'burst': 2,\n",
       "   'dmg': 13000,\n",
       "   'effects': ['autocannon'],\n",
       "   'name': 'auto1'},\n",
       "  'u1': {'name': 'cer1', 'effects': ['ceramo_armor']},\n",
       "  'u2': {'name': 'at1', 'effects': ['force_shield_at']}},\n",
       " 'stats': {'wins': 0, 'battles': 0},\n",
       " 'traits': []}"
      ]
     },
     "execution_count": 17,
     "metadata": {},
     "output_type": "execute_result"
    }
   ],
   "source": [
    "parser.convert_bf_to_json(bf2)"
   ]
  },
  {
   "cell_type": "code",
   "execution_count": 15,
   "id": "8870e54b-af67-451f-9767-9bd564e43814",
   "metadata": {},
   "outputs": [
    {
     "data": {
      "text/plain": [
       "<battlefly.Battlefly at 0x7f8d28f54fd0>"
      ]
     },
     "execution_count": 15,
     "metadata": {},
     "output_type": "execute_result"
    }
   ],
   "source": [
    "bf2"
   ]
  },
  {
   "cell_type": "code",
   "execution_count": 16,
   "id": "119f8068-2e8b-428a-8ff2-c88353f718a5",
   "metadata": {},
   "outputs": [
    {
     "data": {
      "text/plain": [
       "<battlefly.Battlefly at 0x7f8d28e5f130>"
      ]
     },
     "execution_count": 16,
     "metadata": {},
     "output_type": "execute_result"
    }
   ],
   "source": [
    "bf1"
   ]
  },
  {
   "cell_type": "code",
   "execution_count": 3,
   "id": "e7b23a89-5788-4528-bdfb-4b3aaa6f91ef",
   "metadata": {},
   "outputs": [
    {
     "data": {
      "text/plain": [
       "<battlefly.Weapon at 0x7fbc4b655bb0>"
      ]
     },
     "execution_count": 3,
     "metadata": {},
     "output_type": "execute_result"
    }
   ],
   "source": [
    "get_weapon(\"autocannon\", 1)"
   ]
  },
  {
   "cell_type": "code",
   "execution_count": 4,
   "id": "f1b44a07-c9fe-4e2e-ad48-6e8fc3e0111f",
   "metadata": {},
   "outputs": [
    {
     "data": {
      "text/plain": [
       "<battlefly.Weapon at 0x7fbc4b655970>"
      ]
     },
     "execution_count": 4,
     "metadata": {},
     "output_type": "execute_result"
    }
   ],
   "source": [
    "get_weapon(\"autocannon\", 1)"
   ]
  },
  {
   "cell_type": "code",
   "execution_count": 12,
   "id": "32c044be-6f8f-467f-9a88-5e55bc30fc51",
   "metadata": {},
   "outputs": [],
   "source": [
    "import parser as p\n",
    "from battlefly import Battlefly, Weapon, Utility\n",
    "from effects import WEAPON, UTILITY, TRAIT"
   ]
  },
  {
   "cell_type": "code",
   "execution_count": null,
   "id": "4f8f7bc8-4988-4555-9e5d-1c16a584e922",
   "metadata": {},
   "outputs": [],
   "source": [
    "Weapon("
   ]
  }
 ],
 "metadata": {
  "kernelspec": {
   "display_name": "Python 3 (ipykernel)",
   "language": "python",
   "name": "python3"
  },
  "language_info": {
   "codemirror_mode": {
    "name": "ipython",
    "version": 3
   },
   "file_extension": ".py",
   "mimetype": "text/x-python",
   "name": "python",
   "nbconvert_exporter": "python",
   "pygments_lexer": "ipython3",
   "version": "3.9.12"
  }
 },
 "nbformat": 4,
 "nbformat_minor": 5
}
