{
 "cells": [
  {
   "cell_type": "markdown",
   "id": "c62ade75-d768-43a5-b3b5-8d15d07ec3fc",
   "metadata": {},
   "source": [
    "# Battlefly Simulator scratch work\n"
   ]
  },
  {
   "cell_type": "code",
   "execution_count": 1,
   "id": "1a959d87-fd62-43f0-8c0c-457689b3467a",
   "metadata": {},
   "outputs": [],
   "source": [
    "import numpy as np\n",
    "from enum import Enum, auto\n",
    "import time\n",
    "from copy import deepcopy\n",
    "import matplotlib.pyplot as plt\n",
    "import pandas as pd\n",
    "import random\n",
    "import importlib\n",
    "# importlib.reload(module)"
   ]
  },
  {
   "cell_type": "code",
   "execution_count": 2,
   "id": "2110a42b-27a0-4561-a404-1e53457e8b97",
   "metadata": {},
   "outputs": [],
   "source": [
    "from battlefly import Battlefly"
   ]
  },
  {
   "cell_type": "code",
   "execution_count": 3,
   "id": "6e3a6422-7cfe-487c-9b95-0b39ad5e9ce2",
   "metadata": {},
   "outputs": [],
   "source": [
    "from mods import get_weapon, get_utility"
   ]
  },
  {
   "cell_type": "code",
   "execution_count": 119,
   "id": "c8ecebee-05bf-4841-bb61-bc67c5d8a30b",
   "metadata": {},
   "outputs": [],
   "source": [
    "bf1 = Battlefly(get_weapon(\"autocannon\", 1), \n",
    "                get_weapon(\"autocannon\", 1), \n",
    "                get_utility(\"ceramo_armor\", 1),\n",
    "                get_utility(\"force_shield_at\", 1))\n",
    "bf2 = Battlefly(get_weapon(\"howitzer\", 1), \n",
    "                get_weapon(\"micro_rocket_pods\", 1), \n",
    "                get_utility(\"auto_reloaders\", 1),\n",
    "                get_utility(\"boosters_thrusters\", 1))"
   ]
  },
  {
   "cell_type": "code",
   "execution_count": 5,
   "id": "0a81e288-bc88-4897-98f9-74ab40f653d6",
   "metadata": {},
   "outputs": [
    {
     "data": {
      "text/plain": [
       "<module 'parser' from '/Users/SunnyNie/Documents/Programming/games/battlefly/parser.py'>"
      ]
     },
     "execution_count": 5,
     "metadata": {},
     "output_type": "execute_result"
    }
   ],
   "source": [
    "import parser\n",
    "importlib.reload(parser)"
   ]
  },
  {
   "cell_type": "code",
   "execution_count": 6,
   "id": "18273c1d-9aa7-436d-83e9-64accd9c1afe",
   "metadata": {},
   "outputs": [],
   "source": [
    "def fight_battleflies(bf1, bf2, detailed=False):\n",
    "    status={\"shield1\":[bf1.shield], \n",
    "            \"hull1\":[bf1.hull], \n",
    "            \"shield2\":[bf2.shield], \n",
    "            \"hull2\":[bf2.hull], \n",
    "            \"time\":[0]}\n",
    "    about = {\"bf1\":bf1.get_name(), \"bf2\":bf2.get_name()}\n",
    "    bf1.aim_at_enemy(bf2)\n",
    "    bf2.aim_at_enemy(bf1)\n",
    "    while bf1.hull>0 and bf2.hull>0:\n",
    "        \n",
    "        # print(bf1.reloading_for())\n",
    "        # print(bf2.reloading_for())\n",
    "        wait = min(bf1.reloading_for(), bf2.reloading_for())\n",
    "        # print(f\"waiting for {wait/1e3}s\")\n",
    "        bf1.fast_forward_utilities(wait)\n",
    "        bf2.fast_forward_utilities(wait)\n",
    "        bf1.fast_forward_weapons(wait)\n",
    "        bf2.fast_forward_weapons(wait)\n",
    "        if detailed:\n",
    "            status[\"shield1\"].append(bf1.shield)\n",
    "            status[\"hull1\"].append(bf1.hull)\n",
    "            status[\"shield2\"].append(bf2.shield)\n",
    "            status[\"hull2\"].append(bf2.hull)\n",
    "            status[\"time\"].append(status[\"time\"][-1]+wait)\n",
    "        # print(f\"{status['time'][-1]/1e3} ====== new round =======\")\n",
    "\n",
    "    if bf1.hull > 0:\n",
    "        bf1.won_battle()\n",
    "        bf2.lost_battle()\n",
    "    else:\n",
    "        bf2.won_battle()\n",
    "        bf1.lost_battle()\n",
    "    bf1.reset_stats()\n",
    "    bf2.reset_stats()\n",
    "    if detailed: return status, about"
   ]
  },
  {
   "cell_type": "code",
   "execution_count": 7,
   "id": "c76aea2d-466d-4e0e-ad64-77908440897e",
   "metadata": {},
   "outputs": [
    {
     "data": {
      "text/plain": [
       "dict_keys(['a', 'b'])"
      ]
     },
     "execution_count": 7,
     "metadata": {},
     "output_type": "execute_result"
    }
   ],
   "source": [
    "a = {\"a\":1, \"b\":2}\n",
    "a.keys()"
   ]
  },
  {
   "cell_type": "code",
   "execution_count": 47,
   "id": "afe664ef-3e18-41fe-b139-6495a1f917cb",
   "metadata": {},
   "outputs": [],
   "source": [
    "def multiple_fights(bf1, bf2, num):\n",
    "    report = []\n",
    "    for _ in range(num):\n",
    "        s, a = fight_battleflies(bf1, bf2, True)\n",
    "        report.append(s)\n",
    "    return report, a"
   ]
  },
  {
   "cell_type": "code",
   "execution_count": 120,
   "id": "a4410340-ed5a-43e8-bd71-1126503d1041",
   "metadata": {},
   "outputs": [],
   "source": [
    "s, a = multiple_fights(bf1, bf2, 200)"
   ]
  },
  {
   "cell_type": "code",
   "execution_count": 93,
   "id": "a5110e5f-ea73-4d39-90a1-b38e0039f52d",
   "metadata": {},
   "outputs": [
    {
     "data": {
      "text/plain": [
       "595"
      ]
     },
     "execution_count": 93,
     "metadata": {},
     "output_type": "execute_result"
    }
   ],
   "source": [
    "bf2.wins"
   ]
  },
  {
   "cell_type": "code",
   "execution_count": 86,
   "id": "9bcda701-f894-4970-9895-76724b45254d",
   "metadata": {},
   "outputs": [],
   "source": [
    "bf1.w1.enemy"
   ]
  },
  {
   "cell_type": "code",
   "execution_count": 87,
   "id": "c722f83b-de5f-49d4-b3ea-d2194c9bc045",
   "metadata": {},
   "outputs": [],
   "source": [
    "# s, a = fight_battleflies(bf1, bf2, True)"
   ]
  },
  {
   "cell_type": "code",
   "execution_count": 99,
   "id": "62851327-fc2f-4c91-8017-52951e389157",
   "metadata": {},
   "outputs": [],
   "source": [
    "def turn_report_into_df(s):\n",
    "    df = pd.DataFrame(s)\n",
    "    # df.drop([\"time\"], axis=1)\n",
    "    df = df/1e3\n",
    "    df = df.set_index([\"time\"])\n",
    "\n",
    "    df[df < 0] = None\n",
    "    df = df.fillna(value=0, limit=1)\n",
    "    df.shield1 += df.hull1.iloc[0]\n",
    "    df.shield2 += df.hull2.iloc[0]\n",
    "    return df"
   ]
  },
  {
   "cell_type": "code",
   "execution_count": 121,
   "id": "7499ddc7-2005-4f2a-86ce-a97d27ff8e1a",
   "metadata": {},
   "outputs": [],
   "source": [
    "dfs = list(map(lambda x: turn_report_into_df(x), s))"
   ]
  },
  {
   "cell_type": "code",
   "execution_count": 106,
   "id": "eba9e7c0-1db7-40a6-b938-d7adeb0dd09f",
   "metadata": {},
   "outputs": [],
   "source": [
    "import math"
   ]
  },
  {
   "cell_type": "code",
   "execution_count": null,
   "id": "6c902221-5f74-4a6f-8ba2-a402f64237f2",
   "metadata": {},
   "outputs": [],
   "source": []
  },
  {
   "cell_type": "code",
   "execution_count": 114,
   "id": "38a4f794-a9f9-4b11-925b-8931ed5fb39e",
   "metadata": {},
   "outputs": [
    {
     "data": {
      "text/plain": [
       "0.0"
      ]
     },
     "execution_count": 114,
     "metadata": {},
     "output_type": "execute_result"
    }
   ],
   "source": [
    "dfs[0].hull1.iloc[-1]"
   ]
  },
  {
   "cell_type": "code",
   "execution_count": 123,
   "id": "41d6d7f6-23ba-4af6-8b00-da46846bdd77",
   "metadata": {},
   "outputs": [
    {
     "data": {
      "image/png": "[encoded data removed]",
      "text/plain": [
       "<Figure size 720x432 with 2 Axes>"
      ]
     },
     "metadata": {
      "needs_background": "light"
     },
     "output_type": "display_data"
    }
   ],
   "source": [
    "fig, ax = plt.subplots(figsize=(10, 6), nrows=2)\n",
    "fig.tight_layout()\n",
    "\n",
    "ax[0].set_title(a[\"bf1\"])\n",
    "ax[0].set_ylabel(\"shield + hull\")\n",
    "# ax[0].scatter(df.index, df.shield1)\n",
    "# ax[0].scatter(df.index, df.hull1)\n",
    "for df in dfs:\n",
    "    # ax[0].plot(df.shield1, c=\"#54c3ff\", alpha=1/(len(dfs)**0.5))\n",
    "    # ax[0].plot(df.hull1, c=\"#ffbb54\", alpha=1/(len(dfs)**0.5))\n",
    "    \n",
    "    ax[0].plot(df.shield1, c=\"#ff7154\" if df.hull1.iloc[-1]==0 else \"#54ff62\", alpha=1/(len(dfs)**0.5))\n",
    "    ax[0].plot(df.hull1, c=\"#ff7154\" if df.hull1.iloc[-1]==0 else \"#54ff62\", alpha=1/(len(dfs)**0.5))\n",
    "    \n",
    "    \n",
    "ax[0].axes.get_xaxis().set_visible(False)\n",
    "\n",
    "ax[1].set_title(a[\"bf2\"])\n",
    "ax[1].set_ylabel(\"shield + hull\")\n",
    "for df in dfs:\n",
    "    # ax[1].plot(df.shield2, c=\"#54c3ff\", alpha=1/(len(dfs)**0.5))\n",
    "    # ax[1].plot(df.hull2, c=\"#ffbb54\", alpha=1/(len(dfs)**0.5))\n",
    "    \n",
    "    ax[1].plot(df.shield2, c=\"#54ff62\" if df.hull1.iloc[-1]==0 else \"#ff7154\", alpha=1/(len(dfs)**0.5))\n",
    "    ax[1].plot(df.hull2, c=\"#54ff62\" if df.hull1.iloc[-1]==0 else \"#ff7154\", alpha=1/(len(dfs)**0.5))\n",
    "ax[1].set_xlabel(\"seconds\")\n",
    "\n",
    "\n",
    "\n",
    "ax[0].set_ylim(bottom=0)\n",
    "ax[1].set_ylim(bottom=0)\n",
    "\n",
    "fig.savefig('res.png')"
   ]
  },
  {
   "cell_type": "code",
   "execution_count": 45,
   "id": "c0d90523-00b8-4e97-bbe6-3c9730fcb816",
   "metadata": {},
   "outputs": [],
   "source": [
    "a1 = pd.DataFrame([9,8,7], index=[1,2,3])\n",
    "a2 = pd.DataFrame([1,2,3], index=[1,2,3])\n",
    "a3 = pd.DataFrame([5,5,5], index=[1,2,3])\n",
    "d = [a1, a3]"
   ]
  },
  {
   "cell_type": "code",
   "execution_count": 46,
   "id": "9ec0a434-f9b4-4e15-932f-fe9e854f65c1",
   "metadata": {},
   "outputs": [
    {
     "data": {
      "text/plain": [
       "[<matplotlib.lines.Line2D at 0x7f99739cbf70>]"
      ]
     },
     "execution_count": 46,
     "metadata": {},
     "output_type": "execute_result"
    },
    {
     "data": {
      "image/png": "[encoded data removed]",
      "text/plain": [
       "<Figure size 720x432 with 2 Axes>"
      ]
     },
     "metadata": {
      "needs_background": "light"
     },
     "output_type": "display_data"
    }
   ],
   "source": [
    "fig, ax = plt.subplots(figsize=(10, 6), nrows=2)\n",
    "for i in d:\n",
    "    ax[0].plot(i)\n",
    "ax[1].plot(a2)"
   ]
  },
  {
   "cell_type": "code",
   "execution_count": 57,
   "id": "8952a416-3321-4633-973c-9aae8b8d4cfd",
   "metadata": {},
   "outputs": [
    {
     "data": {
      "text/plain": [
       "97"
      ]
     },
     "execution_count": 57,
     "metadata": {},
     "output_type": "execute_result"
    }
   ],
   "source": [
    "bf2.w1.reload"
   ]
  },
  {
   "cell_type": "code",
   "execution_count": 15,
   "id": "3c20a9ff-1095-4266-8154-2b6a183fd67b",
   "metadata": {},
   "outputs": [],
   "source": [
    "df = pd.DataFrame(s)\n",
    "# df.drop([\"time\"], axis=1)\n",
    "df = df/1e3\n",
    "df = df.set_index([\"time\"])\n",
    "\n",
    "df[df < 0] = None\n",
    "df = df.fillna(value=0, limit=1)\n",
    "df.shield1 += df.hull1[0]\n",
    "df.shield2 += df.hull2[0]"
   ]
  },
  {
   "cell_type": "code",
   "execution_count": 16,
   "id": "8ba3369a-87bf-4c46-a714-fe0889bba415",
   "metadata": {},
   "outputs": [
    {
     "data": {
      "text/plain": [
       "250000.0"
      ]
     },
     "execution_count": 16,
     "metadata": {},
     "output_type": "execute_result"
    }
   ],
   "source": [
    "bf1.shield"
   ]
  },
  {
   "cell_type": "code",
   "execution_count": 17,
   "id": "2fd16a1f-675e-41e0-bb09-4d87d1465c16",
   "metadata": {},
   "outputs": [
    {
     "data": {
      "text/html": [
       "<div>\n",
       "<style scoped>\n",
       "    .dataframe tbody tr th:only-of-type {\n",
       "        vertical-align: middle;\n",
       "    }\n",
       "\n",
       "    .dataframe tbody tr th {\n",
       "        vertical-align: top;\n",
       "    }\n",
       "\n",
       "    .dataframe thead th {\n",
       "        text-align: right;\n",
       "    }\n",
       "</style>\n",
       "<table border=\"1\" class=\"dataframe\">\n",
       "  <thead>\n",
       "    <tr style=\"text-align: right;\">\n",
       "      <th></th>\n",
       "      <th>shield1</th>\n",
       "      <th>hull1</th>\n",
       "      <th>shield2</th>\n",
       "      <th>hull2</th>\n",
       "    </tr>\n",
       "    <tr>\n",
       "      <th>time</th>\n",
       "      <th></th>\n",
       "      <th></th>\n",
       "      <th></th>\n",
       "      <th></th>\n",
       "    </tr>\n",
       "  </thead>\n",
       "  <tbody>\n",
       "    <tr>\n",
       "      <th>0.000</th>\n",
       "      <td>650.0000</td>\n",
       "      <td>400.0</td>\n",
       "      <td>600.000</td>\n",
       "      <td>400.0</td>\n",
       "    </tr>\n",
       "    <tr>\n",
       "      <th>0.720</th>\n",
       "      <td>650.0000</td>\n",
       "      <td>400.0</td>\n",
       "      <td>522.000</td>\n",
       "      <td>400.0</td>\n",
       "    </tr>\n",
       "    <tr>\n",
       "      <th>2.720</th>\n",
       "      <td>650.0000</td>\n",
       "      <td>400.0</td>\n",
       "      <td>448.000</td>\n",
       "      <td>400.0</td>\n",
       "    </tr>\n",
       "    <tr>\n",
       "      <th>3.763</th>\n",
       "      <td>538.4020</td>\n",
       "      <td>400.0</td>\n",
       "      <td>450.086</td>\n",
       "      <td>400.0</td>\n",
       "    </tr>\n",
       "    <tr>\n",
       "      <th>4.720</th>\n",
       "      <td>540.7945</td>\n",
       "      <td>400.0</td>\n",
       "      <td>400.000</td>\n",
       "      <td>380.5</td>\n",
       "    </tr>\n",
       "    <tr>\n",
       "      <th>6.720</th>\n",
       "      <td>545.7945</td>\n",
       "      <td>400.0</td>\n",
       "      <td>NaN</td>\n",
       "      <td>302.5</td>\n",
       "    </tr>\n",
       "    <tr>\n",
       "      <th>7.526</th>\n",
       "      <td>451.8095</td>\n",
       "      <td>400.0</td>\n",
       "      <td>NaN</td>\n",
       "      <td>302.5</td>\n",
       "    </tr>\n",
       "    <tr>\n",
       "      <th>7.527</th>\n",
       "      <td>400.0000</td>\n",
       "      <td>396.5</td>\n",
       "      <td>NaN</td>\n",
       "      <td>302.5</td>\n",
       "    </tr>\n",
       "    <tr>\n",
       "      <th>8.720</th>\n",
       "      <td>NaN</td>\n",
       "      <td>396.5</td>\n",
       "      <td>NaN</td>\n",
       "      <td>263.5</td>\n",
       "    </tr>\n",
       "    <tr>\n",
       "      <th>10.720</th>\n",
       "      <td>NaN</td>\n",
       "      <td>396.5</td>\n",
       "      <td>NaN</td>\n",
       "      <td>211.5</td>\n",
       "    </tr>\n",
       "    <tr>\n",
       "      <th>11.289</th>\n",
       "      <td>NaN</td>\n",
       "      <td>300.5</td>\n",
       "      <td>NaN</td>\n",
       "      <td>211.5</td>\n",
       "    </tr>\n",
       "    <tr>\n",
       "      <th>12.720</th>\n",
       "      <td>NaN</td>\n",
       "      <td>300.5</td>\n",
       "      <td>NaN</td>\n",
       "      <td>159.5</td>\n",
       "    </tr>\n",
       "    <tr>\n",
       "      <th>14.720</th>\n",
       "      <td>NaN</td>\n",
       "      <td>300.5</td>\n",
       "      <td>NaN</td>\n",
       "      <td>107.5</td>\n",
       "    </tr>\n",
       "    <tr>\n",
       "      <th>15.052</th>\n",
       "      <td>NaN</td>\n",
       "      <td>204.5</td>\n",
       "      <td>NaN</td>\n",
       "      <td>107.5</td>\n",
       "    </tr>\n",
       "    <tr>\n",
       "      <th>15.054</th>\n",
       "      <td>NaN</td>\n",
       "      <td>148.5</td>\n",
       "      <td>NaN</td>\n",
       "      <td>107.5</td>\n",
       "    </tr>\n",
       "    <tr>\n",
       "      <th>16.720</th>\n",
       "      <td>NaN</td>\n",
       "      <td>148.5</td>\n",
       "      <td>NaN</td>\n",
       "      <td>68.5</td>\n",
       "    </tr>\n",
       "    <tr>\n",
       "      <th>18.720</th>\n",
       "      <td>NaN</td>\n",
       "      <td>148.5</td>\n",
       "      <td>NaN</td>\n",
       "      <td>16.5</td>\n",
       "    </tr>\n",
       "    <tr>\n",
       "      <th>18.815</th>\n",
       "      <td>NaN</td>\n",
       "      <td>52.5</td>\n",
       "      <td>NaN</td>\n",
       "      <td>16.5</td>\n",
       "    </tr>\n",
       "    <tr>\n",
       "      <th>20.720</th>\n",
       "      <td>NaN</td>\n",
       "      <td>52.5</td>\n",
       "      <td>NaN</td>\n",
       "      <td>0.0</td>\n",
       "    </tr>\n",
       "  </tbody>\n",
       "</table>\n",
       "</div>"
      ],
      "text/plain": [
       "         shield1  hull1  shield2  hull2\n",
       "time                                   \n",
       "0.000   650.0000  400.0  600.000  400.0\n",
       "0.720   650.0000  400.0  522.000  400.0\n",
       "2.720   650.0000  400.0  448.000  400.0\n",
       "3.763   538.4020  400.0  450.086  400.0\n",
       "4.720   540.7945  400.0  400.000  380.5\n",
       "6.720   545.7945  400.0      NaN  302.5\n",
       "7.526   451.8095  400.0      NaN  302.5\n",
       "7.527   400.0000  396.5      NaN  302.5\n",
       "8.720        NaN  396.5      NaN  263.5\n",
       "10.720       NaN  396.5      NaN  211.5\n",
       "11.289       NaN  300.5      NaN  211.5\n",
       "12.720       NaN  300.5      NaN  159.5\n",
       "14.720       NaN  300.5      NaN  107.5\n",
       "15.052       NaN  204.5      NaN  107.5\n",
       "15.054       NaN  148.5      NaN  107.5\n",
       "16.720       NaN  148.5      NaN   68.5\n",
       "18.720       NaN  148.5      NaN   16.5\n",
       "18.815       NaN   52.5      NaN   16.5\n",
       "20.720       NaN   52.5      NaN    0.0"
      ]
     },
     "execution_count": 17,
     "metadata": {},
     "output_type": "execute_result"
    }
   ],
   "source": [
    "df"
   ]
  },
  {
   "cell_type": "code",
   "execution_count": 18,
   "id": "71034847-e712-4f5a-af50-0b4133549af8",
   "metadata": {},
   "outputs": [
    {
     "data": {
      "text/plain": [
       "(0.0, 630.0)"
      ]
     },
     "execution_count": 18,
     "metadata": {},
     "output_type": "execute_result"
    },
    {
     "data": {
      "image/png": "[encoded data removed]",
      "text/plain": [
       "<Figure size 720x432 with 2 Axes>"
      ]
     },
     "metadata": {
      "needs_background": "light"
     },
     "output_type": "display_data"
    }
   ],
   "source": [
    "fig, ax = plt.subplots(figsize=(10, 6), nrows=2)\n",
    "fig.tight_layout()\n",
    "\n",
    "ax[0].set_title(a[\"bf1\"])\n",
    "ax[0].set_ylabel(\"shield + hull\")\n",
    "ax[0].plot(df.shield1, '-o')\n",
    "ax[0].plot(df.hull1, '-o')\n",
    "ax[0].axes.get_xaxis().set_visible(False)\n",
    "\n",
    "ax[1].set_title(a[\"bf2\"])\n",
    "ax[1].set_ylabel(\"shield + hull\")\n",
    "ax[1].plot(df.shield2, '-o')\n",
    "ax[1].plot(df.hull2, '-o')\n",
    "ax[1].set_xlabel(\"seconds\")\n",
    "\n",
    "\n",
    "\n",
    "ax[0].set_ylim(bottom=0)\n",
    "ax[1].set_ylim(bottom=0)"
   ]
  },
  {
   "cell_type": "code",
   "execution_count": 35,
   "id": "a8bf29c3-7ebc-42a5-9785-52f898922f2f",
   "metadata": {},
   "outputs": [
    {
     "data": {
      "text/html": [
       "<div>\n",
       "<style scoped>\n",
       "    .dataframe tbody tr th:only-of-type {\n",
       "        vertical-align: middle;\n",
       "    }\n",
       "\n",
       "    .dataframe tbody tr th {\n",
       "        vertical-align: top;\n",
       "    }\n",
       "\n",
       "    .dataframe thead th {\n",
       "        text-align: right;\n",
       "    }\n",
       "</style>\n",
       "<table border=\"1\" class=\"dataframe\">\n",
       "  <thead>\n",
       "    <tr style=\"text-align: right;\">\n",
       "      <th></th>\n",
       "      <th>shield1</th>\n",
       "      <th>hull1</th>\n",
       "      <th>shield2</th>\n",
       "      <th>hull2</th>\n",
       "    </tr>\n",
       "    <tr>\n",
       "      <th>time</th>\n",
       "      <th></th>\n",
       "      <th></th>\n",
       "      <th></th>\n",
       "      <th></th>\n",
       "    </tr>\n",
       "  </thead>\n",
       "  <tbody>\n",
       "    <tr>\n",
       "      <th>0.000</th>\n",
       "      <td>650.000</td>\n",
       "      <td>400.0</td>\n",
       "      <td>600.0</td>\n",
       "      <td>400.0</td>\n",
       "    </tr>\n",
       "    <tr>\n",
       "      <th>2.000</th>\n",
       "      <td>650.000</td>\n",
       "      <td>400.0</td>\n",
       "      <td>522.0</td>\n",
       "      <td>400.0</td>\n",
       "    </tr>\n",
       "    <tr>\n",
       "      <th>3.650</th>\n",
       "      <td>538.402</td>\n",
       "      <td>400.0</td>\n",
       "      <td>525.3</td>\n",
       "      <td>400.0</td>\n",
       "    </tr>\n",
       "    <tr>\n",
       "      <th>4.000</th>\n",
       "      <td>539.277</td>\n",
       "      <td>400.0</td>\n",
       "      <td>448.0</td>\n",
       "      <td>400.0</td>\n",
       "    </tr>\n",
       "    <tr>\n",
       "      <th>6.000</th>\n",
       "      <td>544.277</td>\n",
       "      <td>400.0</td>\n",
       "      <td>400.0</td>\n",
       "      <td>380.5</td>\n",
       "    </tr>\n",
       "    <tr>\n",
       "      <th>7.300</th>\n",
       "      <td>451.527</td>\n",
       "      <td>400.0</td>\n",
       "      <td>NaN</td>\n",
       "      <td>380.5</td>\n",
       "    </tr>\n",
       "    <tr>\n",
       "      <th>7.301</th>\n",
       "      <td>400.000</td>\n",
       "      <td>396.5</td>\n",
       "      <td>NaN</td>\n",
       "      <td>380.5</td>\n",
       "    </tr>\n",
       "    <tr>\n",
       "      <th>8.000</th>\n",
       "      <td>NaN</td>\n",
       "      <td>396.5</td>\n",
       "      <td>NaN</td>\n",
       "      <td>328.5</td>\n",
       "    </tr>\n",
       "    <tr>\n",
       "      <th>10.000</th>\n",
       "      <td>NaN</td>\n",
       "      <td>396.5</td>\n",
       "      <td>NaN</td>\n",
       "      <td>276.5</td>\n",
       "    </tr>\n",
       "    <tr>\n",
       "      <th>10.950</th>\n",
       "      <td>NaN</td>\n",
       "      <td>300.5</td>\n",
       "      <td>NaN</td>\n",
       "      <td>276.5</td>\n",
       "    </tr>\n",
       "    <tr>\n",
       "      <th>12.000</th>\n",
       "      <td>NaN</td>\n",
       "      <td>300.5</td>\n",
       "      <td>NaN</td>\n",
       "      <td>224.5</td>\n",
       "    </tr>\n",
       "    <tr>\n",
       "      <th>14.000</th>\n",
       "      <td>NaN</td>\n",
       "      <td>300.5</td>\n",
       "      <td>NaN</td>\n",
       "      <td>172.5</td>\n",
       "    </tr>\n",
       "    <tr>\n",
       "      <th>14.600</th>\n",
       "      <td>NaN</td>\n",
       "      <td>204.5</td>\n",
       "      <td>NaN</td>\n",
       "      <td>172.5</td>\n",
       "    </tr>\n",
       "    <tr>\n",
       "      <th>14.602</th>\n",
       "      <td>NaN</td>\n",
       "      <td>148.5</td>\n",
       "      <td>NaN</td>\n",
       "      <td>172.5</td>\n",
       "    </tr>\n",
       "    <tr>\n",
       "      <th>16.000</th>\n",
       "      <td>NaN</td>\n",
       "      <td>148.5</td>\n",
       "      <td>NaN</td>\n",
       "      <td>120.5</td>\n",
       "    </tr>\n",
       "    <tr>\n",
       "      <th>18.000</th>\n",
       "      <td>NaN</td>\n",
       "      <td>148.5</td>\n",
       "      <td>NaN</td>\n",
       "      <td>68.5</td>\n",
       "    </tr>\n",
       "    <tr>\n",
       "      <th>18.250</th>\n",
       "      <td>NaN</td>\n",
       "      <td>52.5</td>\n",
       "      <td>NaN</td>\n",
       "      <td>68.5</td>\n",
       "    </tr>\n",
       "    <tr>\n",
       "      <th>20.000</th>\n",
       "      <td>NaN</td>\n",
       "      <td>52.5</td>\n",
       "      <td>NaN</td>\n",
       "      <td>16.5</td>\n",
       "    </tr>\n",
       "    <tr>\n",
       "      <th>21.900</th>\n",
       "      <td>NaN</td>\n",
       "      <td>0.0</td>\n",
       "      <td>NaN</td>\n",
       "      <td>16.5</td>\n",
       "    </tr>\n",
       "  </tbody>\n",
       "</table>\n",
       "</div>"
      ],
      "text/plain": [
       "        shield1  hull1  shield2  hull2\n",
       "time                                  \n",
       "0.000   650.000  400.0    600.0  400.0\n",
       "2.000   650.000  400.0    522.0  400.0\n",
       "3.650   538.402  400.0    525.3  400.0\n",
       "4.000   539.277  400.0    448.0  400.0\n",
       "6.000   544.277  400.0    400.0  380.5\n",
       "7.300   451.527  400.0      NaN  380.5\n",
       "7.301   400.000  396.5      NaN  380.5\n",
       "8.000       NaN  396.5      NaN  328.5\n",
       "10.000      NaN  396.5      NaN  276.5\n",
       "10.950      NaN  300.5      NaN  276.5\n",
       "12.000      NaN  300.5      NaN  224.5\n",
       "14.000      NaN  300.5      NaN  172.5\n",
       "14.600      NaN  204.5      NaN  172.5\n",
       "14.602      NaN  148.5      NaN  172.5\n",
       "16.000      NaN  148.5      NaN  120.5\n",
       "18.000      NaN  148.5      NaN   68.5\n",
       "18.250      NaN   52.5      NaN   68.5\n",
       "20.000      NaN   52.5      NaN   16.5\n",
       "21.900      NaN    0.0      NaN   16.5"
      ]
     },
     "execution_count": 35,
     "metadata": {},
     "output_type": "execute_result"
    }
   ],
   "source": [
    "df"
   ]
  },
  {
   "cell_type": "code",
   "execution_count": 15,
   "id": "1baabae6-56ce-4d58-8d3c-0fe9ae0575b2",
   "metadata": {},
   "outputs": [
    {
     "data": {
      "text/plain": [
       "{'shield1': [250000.0,\n",
       "  250000.0,\n",
       "  4226000.0,\n",
       "  4226000.0,\n",
       "  11178000.0,\n",
       "  59058000.0,\n",
       "  59058000.0,\n",
       "  65010000.0,\n",
       "  65010000.0,\n",
       "  65010000.0,\n",
       "  69962000.0,\n",
       "  101842000.0,\n",
       "  101842000.0],\n",
       " 'hull1': [400000,\n",
       "  400000,\n",
       "  400000,\n",
       "  400000,\n",
       "  400000,\n",
       "  400000,\n",
       "  400000,\n",
       "  400000,\n",
       "  400000,\n",
       "  400000,\n",
       "  400000,\n",
       "  400000,\n",
       "  400000],\n",
       " 'shield2': [250000.0,\n",
       "  161000,\n",
       "  2402,\n",
       "  -17098,\n",
       "  -17098,\n",
       "  -17098,\n",
       "  -17098,\n",
       "  -17098,\n",
       "  -17098,\n",
       "  -17098,\n",
       "  -17098,\n",
       "  -17098,\n",
       "  -17098],\n",
       " 'hull2': [400000,\n",
       "  400000,\n",
       "  400000,\n",
       "  380500,\n",
       "  380500,\n",
       "  221902,\n",
       "  202402,\n",
       "  202402,\n",
       "  103603,\n",
       "  64603,\n",
       "  64603,\n",
       "  64603,\n",
       "  -93995],\n",
       " 'time': [0,\n",
       "  2000,\n",
       "  4000,\n",
       "  6000,\n",
       "  7763,\n",
       "  8000,\n",
       "  10000,\n",
       "  11526,\n",
       "  12000,\n",
       "  14000,\n",
       "  15289,\n",
       "  15527,\n",
       "  16000]}"
      ]
     },
     "execution_count": 15,
     "metadata": {},
     "output_type": "execute_result"
    }
   ],
   "source": [
    "s"
   ]
  },
  {
   "cell_type": "code",
   "execution_count": 12,
   "id": "32c044be-6f8f-467f-9a88-5e55bc30fc51",
   "metadata": {},
   "outputs": [],
   "source": [
    "import parser as p\n",
    "from battlefly import Battlefly, Weapon, Utility\n",
    "from effects import WEAPON, UTILITY, TRAIT"
   ]
  },
  {
   "cell_type": "code",
   "execution_count": null,
   "id": "4f8f7bc8-4988-4555-9e5d-1c16a584e922",
   "metadata": {},
   "outputs": [],
   "source": [
    "Weapon("
   ]
  }
 ],
 "metadata": {
  "kernelspec": {
   "display_name": "Python 3 (ipykernel)",
   "language": "python",
   "name": "python3"
  },
  "language_info": {
   "codemirror_mode": {
    "name": "ipython",
    "version": 3
   },
   "file_extension": ".py",
   "mimetype": "text/x-python",
   "name": "python",
   "nbconvert_exporter": "python",
   "pygments_lexer": "ipython3",
   "version": "3.9.12"
  }
 },
 "nbformat": 4,
 "nbformat_minor": 5
}
