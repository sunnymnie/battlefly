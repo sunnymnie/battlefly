{
 "cells": [
  {
   "cell_type": "markdown",
   "id": "c62ade75-d768-43a5-b3b5-8d15d07ec3fc",
   "metadata": {},
   "source": [
    "# Battlefly Simulator scratch work\n"
   ]
  },
  {
   "cell_type": "code",
   "execution_count": 19,
   "id": "1a959d87-fd62-43f0-8c0c-457689b3467a",
   "metadata": {},
   "outputs": [],
   "source": [
    "import numpy as np\n",
    "from enum import Enum, auto\n",
    "import time\n",
    "from copy import deepcopy\n",
    "import matplotlib.pyplot as plt\n",
    "import random"
   ]
  },
  {
   "cell_type": "code",
   "execution_count": 22,
   "id": "a1092cd5-636d-4d02-8c61-4398bbd83016",
   "metadata": {},
   "outputs": [],
   "source": [
    "import time"
   ]
  },
  {
   "cell_type": "code",
   "execution_count": 38,
   "id": "def23361-e188-44cd-952a-172f6992a7d6",
   "metadata": {},
   "outputs": [
    {
     "data": {
      "text/plain": [
       "3.543450117111206"
      ]
     },
     "execution_count": 38,
     "metadata": {},
     "output_type": "execute_result"
    }
   ],
   "source": [
    "t = time.time()\n",
    "for _ in range(10000000):\n",
    "    random.uniform(0, 1)\n",
    "    # np.random.sample()\n",
    "time.time()-t"
   ]
  },
  {
   "cell_type": "code",
   "execution_count": null,
   "id": "d19dee4f-20bd-4535-82f2-77651bf0e9d6",
   "metadata": {},
   "outputs": [],
   "source": [
    "class Weapon():\n",
    "    def __init__(self, burst, dmg, reload, effects=[], me=None, enemy=None):\n",
    "        \"\"\"\n",
    "        - me: BF with this weapon\n",
    "        - enemy: The BF this weapon is firing upon\n",
    "        - effects: list of functions with signature (me, enemy) \n",
    "        \"\"\"\n",
    "        self.reload = reload\n",
    "        self.reload_wait = reload\n",
    "        self.me = me\n",
    "        self.enemy = enemy\n",
    "        self.burst = burst\n",
    "        self.dmg = dmg\n",
    "        self.effects = effects\n",
    "        \n",
    "    def fast_forward_time_by(s):\n",
    "        \"\"\"\n",
    "        speeds up reload by s seconds and fire if reload reaches 0\n",
    "        \"\"\"\n",
    "        self.reload_wait -= s\n",
    "        while self.reload_wait <= 0:\n",
    "            self.reload_wait += self.reload\n",
    "            self.shoot_at_enemy()\n",
    "        \n",
    "    def shoot_at_enemy():\n",
    "        # Reduce enemy health\n",
    "        for _ in range(self.burst):\n",
    "            rng = random.uniform(0, 1)\n",
    "            dmg = self.dmg\n",
    "            for e in effects:\n",
    "                dmg, rng = e(self, me, enemy, dmg, rng)\n",
    "            if rng>enemy.evasion_chance:\n",
    "                if enemy.shield>0:\n",
    "                    enemy.shield -= dmg  # Question: what happens if more damage for shield but have left over?\n",
    "                else:\n",
    "                    enemy.hull -= dmg\n",
    "    \n",
    "    def add_owner(bf):\n",
    "        self.me = bf\n",
    "        \n",
    "    def add_enemy(bf):\n",
    "        self.enemy = bf\n",
    "        \n",
    "    def remove_enemy():\n",
    "        self.enemy = None\n",
    "    \n",
    "class Utility():\n",
    "    def __init__(self, effects=[], init_effects=[], me=None):\n",
    "        self.me = me\n",
    "        self.effects = effects\n",
    "        self.init_effects = init_effects\n",
    "            \n",
    "    def apply_effects(elapsed_time):\n",
    "        for e in self.effects:\n",
    "            e(self.me, elapsed_time, self=e, effects=self.effects)\n",
    "            \n",
    "    def add_owner(bf):\n",
    "        self.me = bf\n",
    "        for e in self.init_effects:\n",
    "            e(self.me, self.effects, self=e)\n",
    "    \n",
    "        "
   ]
  },
  {
   "cell_type": "code",
   "execution_count": null,
   "id": "8783b9b3-c11d-421d-989f-391989021580",
   "metadata": {},
   "outputs": [],
   "source": [
    "class Battlefly():\n",
    "    def __init__(self, w1, w2, u1, u2, traits=[]):\n",
    "        self.reset_stats()\n",
    "        self.w1 = w1\n",
    "        self.w2 = w2\n",
    "        self.u1 = u1\n",
    "        self.u2 = u2\n",
    "        self.w1.add_owner(self)\n",
    "        self.w2.add_owner(self)\n",
    "        self.u1.add_owner(self)        \n",
    "        self.u2.add_owner(self)\n",
    "        self.wins = 0\n",
    "        self.battles = 0\n",
    "        \n",
    "    def reloading_for(self):\n",
    "        \"\"\"returns how long till one weapon finishes reloading\"\"\"\n",
    "        return min(self.w1.reload_wait, self.w2.reload_wait)\n",
    "    \n",
    "    def fast_forward_weapons(self, time):\n",
    "        self.w1.fast_forward_time_by(time)\n",
    "        self.w2.fast_forward_time_by(time)\n",
    "        \n",
    "    def fast_forward_utilities(self, time):\n",
    "        self.u1.apply_effects(time)\n",
    "        self.u2.apply_effects(time)\n",
    "        \n",
    "    def won_battle(times=1):\n",
    "        self.wins += times\n",
    "        self.battles += times\n",
    "        \n",
    "    def lost_battle(times=1):\n",
    "        self.battles += times\n",
    "        \n",
    "    def reset_stats():\n",
    "        self.hull = 400\n",
    "        self.hull_regen_amt = 0\n",
    "        self.shield = 200\n",
    "        self.shield_regen = 0.01\n",
    "        self.shield_regen_amt = self.shield * self.shield_regen\n",
    "        self.armour = 0\n",
    "        self.evasion_chance = 0.05\n",
    "        self.dmg_multiplier = 1\n",
    "        self.crit_chance = 0.05\n",
    "        self.critdmg = 2\n",
    "        \n",
    "    \n",
    "\n",
    "        "
   ]
  },
  {
   "cell_type": "code",
   "execution_count": null,
   "id": "0184d197-6119-4a8b-837c-f3c32e5cf664",
   "metadata": {},
   "outputs": [],
   "source": [
    "def fight_battleflies(bf1, bf2, detailed=False):\n",
    "    status={\"shield1\":[bf1.shield], \"hull1\":[bf1.hull], \"shield2\":[bf1.shield], \"hull2\":[bf1.hull], \"time\":[0]}\n",
    "    while bf1.hull>0 and bf2.hull>0:\n",
    "        wait = min(bf1.reloading_for(), bf2.reloading_for())\n",
    "        bf1.fast_forward_utilities(wait)\n",
    "        bf2.fast_forward_utilities(wait)\n",
    "        bf1.fast_forward_weapons(wait)\n",
    "        bf2.fast_forward_weapons(wait)\n",
    "        if detailed:\n",
    "            status[\"shield1\"].append(bf1.shield)\n",
    "            status[\"hull1\"].append(bf1.hull)\n",
    "            status[\"shield2\"].append(bf2.shield)\n",
    "            status[\"hull2\"].append(bf2.hull)\n",
    "            status[\"time\"].append(status[\"time\"][-1]+wait)\n",
    "    if bf1.hull > 0:\n",
    "        bf1.won_battle()\n",
    "        bf2.lost_battle()\n",
    "    else:\n",
    "        bf2.won_battle()\n",
    "        bf1.lost_battle()\n",
    "    if detailed: return status\n"
   ]
  },
  {
   "cell_type": "code",
   "execution_count": null,
   "id": "64740a37-ae6e-425b-8e06-eac6ff6c1681",
   "metadata": {},
   "outputs": [],
   "source": [
    "def overclocking_protocols(me, enemy, effects, time, **kwargs):\n",
    "    \"\"\"requires self\"\"\"\n",
    "    # if me health low\n",
    "        effects.remove(kwargs[\"self\"])\n",
    "        # buff me"
   ]
  },
  {
   "cell_type": "code",
   "execution_count": 14,
   "id": "071edddb-8216-4b24-a598-92f1f66357a0",
   "metadata": {},
   "outputs": [],
   "source": [
    "def test(a, **kwargs):\n",
    "    a.remove(kwargs[\"self\"])\n",
    "array = [test, 5]"
   ]
  },
  {
   "cell_type": "code",
   "execution_count": 15,
   "id": "5c911c50-4f82-4b24-87e3-e94ef21bf493",
   "metadata": {},
   "outputs": [
    {
     "data": {
      "text/plain": [
       "[<function __main__.test(a, **kwargs)>, 5]"
      ]
     },
     "execution_count": 15,
     "metadata": {},
     "output_type": "execute_result"
    }
   ],
   "source": [
    "array"
   ]
  },
  {
   "cell_type": "code",
   "execution_count": 16,
   "id": "ec1a9ace-0e4c-4137-9923-87ba9e28ae51",
   "metadata": {},
   "outputs": [],
   "source": [
    "test(array, self=test)"
   ]
  },
  {
   "cell_type": "code",
   "execution_count": 17,
   "id": "8977bc7a-2cfd-431d-a2a9-2e1166896656",
   "metadata": {},
   "outputs": [
    {
     "data": {
      "text/plain": [
       "[5]"
      ]
     },
     "execution_count": 17,
     "metadata": {},
     "output_type": "execute_result"
    }
   ],
   "source": [
    "array"
   ]
  },
  {
   "cell_type": "code",
   "execution_count": 4,
   "id": "cde0058c-2817-4afe-bcaa-7064060be5ca",
   "metadata": {},
   "outputs": [],
   "source": [
    "def test(**kwargs):\n",
    "    return kwargs"
   ]
  },
  {
   "cell_type": "code",
   "execution_count": 5,
   "id": "0b8df761-5ed5-497e-a35e-137b6e00df41",
   "metadata": {},
   "outputs": [
    {
     "data": {
      "text/plain": [
       "{'b': 5}"
      ]
     },
     "execution_count": 5,
     "metadata": {},
     "output_type": "execute_result"
    }
   ],
   "source": [
    "test(b=5)"
   ]
  },
  {
   "cell_type": "code",
   "execution_count": null,
   "id": "45303227-b6e6-4462-94da-c7685c5f6d61",
   "metadata": {},
   "outputs": [],
   "source": [
    "def weapon_to_json():\n",
    "    \"\"\"converts weapon to json\"\"\"\n",
    "    pass\n",
    "\n",
    "def json_to_weapon():\n",
    "    \"\"\"converts json to weapon\"\"\"\n",
    "    pass\n",
    "\n"
   ]
  },
  {
   "cell_type": "code",
   "execution_count": null,
   "id": "5102ad3b-611d-4902-ac7b-06eb579b04d0",
   "metadata": {},
   "outputs": [],
   "source": []
  }
 ],
 "metadata": {
  "kernelspec": {
   "display_name": "Python 3 (ipykernel)",
   "language": "python",
   "name": "python3"
  },
  "language_info": {
   "codemirror_mode": {
    "name": "ipython",
    "version": 3
   },
   "file_extension": ".py",
   "mimetype": "text/x-python",
   "name": "python",
   "nbconvert_exporter": "python",
   "pygments_lexer": "ipython3",
   "version": "3.9.12"
  }
 },
 "nbformat": 4,
 "nbformat_minor": 5
}
